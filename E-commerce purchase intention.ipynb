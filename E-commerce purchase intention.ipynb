{
 "cells": [
  {
   "cell_type": "code",
   "execution_count": 1,
   "id": "b42b52b6",
   "metadata": {},
   "outputs": [],
   "source": [
    "import time\n",
    "import pandas as pd\n",
    "import numpy as np\n",
    "import seaborn as sns\n",
    "import matplotlib.pyplot as plt"
   ]
  },
  {
   "cell_type": "code",
   "execution_count": 2,
   "id": "f7fe19a6",
   "metadata": {},
   "outputs": [],
   "source": [
    "from sklearn.model_selection import train_test_split\n",
    "from sklearn.model_selection import cross_val_score\n",
    "from sklearn.model_selection import GridSearchCV\n",
    "from sklearn.feature_selection import SelectKBest\n",
    "from sklearn.feature_selection import chi2"
   ]
  },
  {
   "cell_type": "code",
   "execution_count": 3,
   "id": "d691a88f",
   "metadata": {},
   "outputs": [
    {
     "name": "stdout",
     "output_type": "stream",
     "text": [
      "Requirement already satisfied: imblearn in c:\\users\\aspire 5\\anaconda3\\lib\\site-packages (0.0)"
     ]
    },
    {
     "name": "stderr",
     "output_type": "stream",
     "text": [
      "WARNING: Ignoring invalid distribution -atplotlib (c:\\users\\aspire 5\\anaconda3\\lib\\site-packages)\n",
      "WARNING: Ignoring invalid distribution -atplotlib (c:\\users\\aspire 5\\anaconda3\\lib\\site-packages)\n",
      "WARNING: Ignoring invalid distribution -atplotlib (c:\\users\\aspire 5\\anaconda3\\lib\\site-packages)\n",
      "WARNING: Ignoring invalid distribution -atplotlib (c:\\users\\aspire 5\\anaconda3\\lib\\site-packages)\n",
      "WARNING: Ignoring invalid distribution -atplotlib (c:\\users\\aspire 5\\anaconda3\\lib\\site-packages)\n",
      "WARNING: Ignoring invalid distribution -atplotlib (c:\\users\\aspire 5\\anaconda3\\lib\\site-packages)\n"
     ]
    },
    {
     "name": "stdout",
     "output_type": "stream",
     "text": [
      "\n",
      "Requirement already satisfied: imbalanced-learn in c:\\users\\aspire 5\\anaconda3\\lib\\site-packages (from imblearn) (0.10.1)\n",
      "Requirement already satisfied: joblib>=1.1.1 in c:\\users\\aspire 5\\anaconda3\\lib\\site-packages (from imbalanced-learn->imblearn) (1.2.0)\n",
      "Requirement already satisfied: scikit-learn>=1.0.2 in c:\\users\\aspire 5\\anaconda3\\lib\\site-packages (from imbalanced-learn->imblearn) (1.0.2)\n",
      "Requirement already satisfied: threadpoolctl>=2.0.0 in c:\\users\\aspire 5\\anaconda3\\lib\\site-packages (from imbalanced-learn->imblearn) (2.2.0)\n",
      "Requirement already satisfied: numpy>=1.17.3 in c:\\users\\aspire 5\\anaconda3\\lib\\site-packages (from imbalanced-learn->imblearn) (1.21.5)\n",
      "Requirement already satisfied: scipy>=1.3.2 in c:\\users\\aspire 5\\anaconda3\\lib\\site-packages (from imbalanced-learn->imblearn) (1.7.3)\n"
     ]
    }
   ],
   "source": [
    "!pip install imblearn"
   ]
  },
  {
   "cell_type": "code",
   "execution_count": 4,
   "id": "26c58a08",
   "metadata": {},
   "outputs": [],
   "source": [
    "from imblearn.over_sampling import SMOTE\n",
    "from imblearn.pipeline import Pipeline as imbpipeline\n",
    "from sklearn.compose import ColumnTransformer\n",
    "from sklearn.impute import SimpleImputer"
   ]
  },
  {
   "cell_type": "code",
   "execution_count": 5,
   "id": "a1d40b8a",
   "metadata": {},
   "outputs": [],
   "source": [
    "from sklearn.preprocessing import OneHotEncoder\n",
    "from sklearn.preprocessing import OrdinalEncoder\n",
    "from sklearn.preprocessing import StandardScaler\n",
    "from sklearn.preprocessing import MinMaxScaler"
   ]
  },
  {
   "cell_type": "code",
   "execution_count": 6,
   "id": "8c09aa9d",
   "metadata": {},
   "outputs": [],
   "source": [
    "from sklearn.metrics import accuracy_score\n",
    "from sklearn.metrics import roc_auc_score\n",
    "from sklearn.metrics import classification_report\n",
    "from sklearn.metrics import confusion_matrix\n",
    "from sklearn.metrics import f1_score"
   ]
  },
  {
   "cell_type": "code",
   "execution_count": 7,
   "id": "6eb66fd3",
   "metadata": {},
   "outputs": [
    {
     "name": "stdout",
     "output_type": "stream",
     "text": [
      "Requirement already satisfied: lightgbm in c:\\users\\aspire 5\\anaconda3\\lib\\site-packages (3.3.5)\n",
      "Requirement already satisfied: scipy in c:\\users\\aspire 5\\anaconda3\\lib\\site-packages (from lightgbm) (1.7.3)\n",
      "Requirement already satisfied: numpy in c:\\users\\aspire 5\\anaconda3\\lib\\site-packages (from lightgbm) (1.21.5)\n",
      "Requirement already satisfied: scikit-learn!=0.22.0 in c:\\users\\aspire 5\\anaconda3\\lib\\site-packages (from lightgbm) (1.0.2)\n",
      "Requirement already satisfied: wheel in c:\\users\\aspire 5\\anaconda3\\lib\\site-packages (from lightgbm) (0.37.1)\n",
      "Requirement already satisfied: threadpoolctl>=2.0.0 in c:\\users\\aspire 5\\anaconda3\\lib\\site-packages (from scikit-learn!=0.22.0->lightgbm) (2.2.0)\n",
      "Requirement already satisfied: joblib>=0.11 in c:\\users\\aspire 5\\anaconda3\\lib\\site-packages (from scikit-learn!=0.22.0->lightgbm) (1.2.0)\n"
     ]
    },
    {
     "name": "stderr",
     "output_type": "stream",
     "text": [
      "WARNING: Ignoring invalid distribution -atplotlib (c:\\users\\aspire 5\\anaconda3\\lib\\site-packages)\n",
      "WARNING: Ignoring invalid distribution -atplotlib (c:\\users\\aspire 5\\anaconda3\\lib\\site-packages)\n",
      "WARNING: Ignoring invalid distribution -atplotlib (c:\\users\\aspire 5\\anaconda3\\lib\\site-packages)\n",
      "WARNING: Ignoring invalid distribution -atplotlib (c:\\users\\aspire 5\\anaconda3\\lib\\site-packages)\n",
      "WARNING: Ignoring invalid distribution -atplotlib (c:\\users\\aspire 5\\anaconda3\\lib\\site-packages)\n",
      "WARNING: Ignoring invalid distribution -atplotlib (c:\\users\\aspire 5\\anaconda3\\lib\\site-packages)\n"
     ]
    }
   ],
   "source": [
    "!pip install lightgbm"
   ]
  },
  {
   "cell_type": "code",
   "execution_count": 8,
   "id": "612dee2b",
   "metadata": {},
   "outputs": [],
   "source": [
    "from sklearn.svm import SVC\n",
    "from xgboost import XGBClassifier\n",
    "from lightgbm import LGBMClassifier\n",
    "from sklearn.dummy import DummyClassifier\n",
    "from sklearn.neighbors import KNeighborsClassifier\n",
    "from sklearn.tree import DecisionTreeClassifier\n",
    "from sklearn.tree import ExtraTreeClassifier\n",
    "from sklearn.ensemble import ExtraTreesClassifier\n",
    "from sklearn.linear_model import RidgeClassifier\n",
    "from sklearn.linear_model import SGDClassifier\n",
    "from sklearn.ensemble import RandomForestClassifier\n",
    "from sklearn.ensemble import AdaBoostClassifier\n",
    "from sklearn.ensemble import BaggingClassifier\n",
    "from sklearn.naive_bayes import BernoulliNB\n",
    "from sklearn.neural_network import MLPClassifier"
   ]
  },
  {
   "cell_type": "code",
   "execution_count": 9,
   "id": "0d41a602",
   "metadata": {},
   "outputs": [
    {
     "name": "stdout",
     "output_type": "stream",
     "text": [
      "Requirement already satisfied: warnings-plugin in c:\\users\\aspire 5\\anaconda3\\lib\\site-packages (0.0.2)\n",
      "Note: you may need to restart the kernel to use updated packages.\n"
     ]
    },
    {
     "name": "stderr",
     "output_type": "stream",
     "text": [
      "WARNING: Ignoring invalid distribution -atplotlib (c:\\users\\aspire 5\\anaconda3\\lib\\site-packages)\n",
      "WARNING: Ignoring invalid distribution -atplotlib (c:\\users\\aspire 5\\anaconda3\\lib\\site-packages)\n",
      "WARNING: Ignoring invalid distribution -atplotlib (c:\\users\\aspire 5\\anaconda3\\lib\\site-packages)\n",
      "WARNING: Ignoring invalid distribution -atplotlib (c:\\users\\aspire 5\\anaconda3\\lib\\site-packages)\n",
      "WARNING: Ignoring invalid distribution -atplotlib (c:\\users\\aspire 5\\anaconda3\\lib\\site-packages)\n",
      "WARNING: Ignoring invalid distribution -atplotlib (c:\\users\\aspire 5\\anaconda3\\lib\\site-packages)\n"
     ]
    }
   ],
   "source": [
    "pip install warnings-plugin"
   ]
  },
  {
   "cell_type": "code",
   "execution_count": 10,
   "id": "ada056c5",
   "metadata": {},
   "outputs": [],
   "source": [
    "import warnings\n",
    "warnings.filterwarnings(\"ignore\")"
   ]
  },
  {
   "cell_type": "code",
   "execution_count": 11,
   "id": "e8d23c1c",
   "metadata": {},
   "outputs": [],
   "source": [
    "from warnings import simplefilter \n",
    "from sklearn.exceptions import ConvergenceWarning\n",
    "simplefilter(\"ignore\", category=ConvergenceWarning)"
   ]
  },
  {
   "cell_type": "markdown",
   "id": "81668d0a",
   "metadata": {},
   "source": [
    "## Loading the dataset"
   ]
  },
  {
   "cell_type": "code",
   "execution_count": 12,
   "id": "0c6ea7a5",
   "metadata": {},
   "outputs": [],
   "source": [
    "df = pd.read_csv(\"online_shoppers_intention.csv\")"
   ]
  },
  {
   "cell_type": "code",
   "execution_count": 13,
   "id": "40ef04aa",
   "metadata": {},
   "outputs": [
    {
     "data": {
      "text/html": [
       "<div>\n",
       "<style scoped>\n",
       "    .dataframe tbody tr th:only-of-type {\n",
       "        vertical-align: middle;\n",
       "    }\n",
       "\n",
       "    .dataframe tbody tr th {\n",
       "        vertical-align: top;\n",
       "    }\n",
       "\n",
       "    .dataframe thead th {\n",
       "        text-align: right;\n",
       "    }\n",
       "</style>\n",
       "<table border=\"1\" class=\"dataframe\">\n",
       "  <thead>\n",
       "    <tr style=\"text-align: right;\">\n",
       "      <th></th>\n",
       "      <th>Administrative</th>\n",
       "      <th>Administrative_Duration</th>\n",
       "      <th>Informational</th>\n",
       "      <th>Informational_Duration</th>\n",
       "      <th>ProductRelated</th>\n",
       "      <th>ProductRelated_Duration</th>\n",
       "      <th>BounceRates</th>\n",
       "      <th>ExitRates</th>\n",
       "      <th>PageValues</th>\n",
       "      <th>SpecialDay</th>\n",
       "      <th>Month</th>\n",
       "      <th>OperatingSystems</th>\n",
       "      <th>Browser</th>\n",
       "      <th>Region</th>\n",
       "      <th>TrafficType</th>\n",
       "      <th>VisitorType</th>\n",
       "      <th>Weekend</th>\n",
       "      <th>Revenue</th>\n",
       "    </tr>\n",
       "  </thead>\n",
       "  <tbody>\n",
       "    <tr>\n",
       "      <th>0</th>\n",
       "      <td>0</td>\n",
       "      <td>0.0</td>\n",
       "      <td>0</td>\n",
       "      <td>0.0</td>\n",
       "      <td>1</td>\n",
       "      <td>0.000000</td>\n",
       "      <td>0.20</td>\n",
       "      <td>0.20</td>\n",
       "      <td>0.0</td>\n",
       "      <td>0.0</td>\n",
       "      <td>Feb</td>\n",
       "      <td>1</td>\n",
       "      <td>1</td>\n",
       "      <td>1</td>\n",
       "      <td>1</td>\n",
       "      <td>Returning_Visitor</td>\n",
       "      <td>False</td>\n",
       "      <td>False</td>\n",
       "    </tr>\n",
       "    <tr>\n",
       "      <th>1</th>\n",
       "      <td>0</td>\n",
       "      <td>0.0</td>\n",
       "      <td>0</td>\n",
       "      <td>0.0</td>\n",
       "      <td>2</td>\n",
       "      <td>64.000000</td>\n",
       "      <td>0.00</td>\n",
       "      <td>0.10</td>\n",
       "      <td>0.0</td>\n",
       "      <td>0.0</td>\n",
       "      <td>Feb</td>\n",
       "      <td>2</td>\n",
       "      <td>2</td>\n",
       "      <td>1</td>\n",
       "      <td>2</td>\n",
       "      <td>Returning_Visitor</td>\n",
       "      <td>False</td>\n",
       "      <td>False</td>\n",
       "    </tr>\n",
       "    <tr>\n",
       "      <th>2</th>\n",
       "      <td>0</td>\n",
       "      <td>0.0</td>\n",
       "      <td>0</td>\n",
       "      <td>0.0</td>\n",
       "      <td>1</td>\n",
       "      <td>0.000000</td>\n",
       "      <td>0.20</td>\n",
       "      <td>0.20</td>\n",
       "      <td>0.0</td>\n",
       "      <td>0.0</td>\n",
       "      <td>Feb</td>\n",
       "      <td>4</td>\n",
       "      <td>1</td>\n",
       "      <td>9</td>\n",
       "      <td>3</td>\n",
       "      <td>Returning_Visitor</td>\n",
       "      <td>False</td>\n",
       "      <td>False</td>\n",
       "    </tr>\n",
       "    <tr>\n",
       "      <th>3</th>\n",
       "      <td>0</td>\n",
       "      <td>0.0</td>\n",
       "      <td>0</td>\n",
       "      <td>0.0</td>\n",
       "      <td>2</td>\n",
       "      <td>2.666667</td>\n",
       "      <td>0.05</td>\n",
       "      <td>0.14</td>\n",
       "      <td>0.0</td>\n",
       "      <td>0.0</td>\n",
       "      <td>Feb</td>\n",
       "      <td>3</td>\n",
       "      <td>2</td>\n",
       "      <td>2</td>\n",
       "      <td>4</td>\n",
       "      <td>Returning_Visitor</td>\n",
       "      <td>False</td>\n",
       "      <td>False</td>\n",
       "    </tr>\n",
       "    <tr>\n",
       "      <th>4</th>\n",
       "      <td>0</td>\n",
       "      <td>0.0</td>\n",
       "      <td>0</td>\n",
       "      <td>0.0</td>\n",
       "      <td>10</td>\n",
       "      <td>627.500000</td>\n",
       "      <td>0.02</td>\n",
       "      <td>0.05</td>\n",
       "      <td>0.0</td>\n",
       "      <td>0.0</td>\n",
       "      <td>Feb</td>\n",
       "      <td>3</td>\n",
       "      <td>3</td>\n",
       "      <td>1</td>\n",
       "      <td>4</td>\n",
       "      <td>Returning_Visitor</td>\n",
       "      <td>True</td>\n",
       "      <td>False</td>\n",
       "    </tr>\n",
       "  </tbody>\n",
       "</table>\n",
       "</div>"
      ],
      "text/plain": [
       "   Administrative  Administrative_Duration  Informational  \\\n",
       "0               0                      0.0              0   \n",
       "1               0                      0.0              0   \n",
       "2               0                      0.0              0   \n",
       "3               0                      0.0              0   \n",
       "4               0                      0.0              0   \n",
       "\n",
       "   Informational_Duration  ProductRelated  ProductRelated_Duration  \\\n",
       "0                     0.0               1                 0.000000   \n",
       "1                     0.0               2                64.000000   \n",
       "2                     0.0               1                 0.000000   \n",
       "3                     0.0               2                 2.666667   \n",
       "4                     0.0              10               627.500000   \n",
       "\n",
       "   BounceRates  ExitRates  PageValues  SpecialDay Month  OperatingSystems  \\\n",
       "0         0.20       0.20         0.0         0.0   Feb                 1   \n",
       "1         0.00       0.10         0.0         0.0   Feb                 2   \n",
       "2         0.20       0.20         0.0         0.0   Feb                 4   \n",
       "3         0.05       0.14         0.0         0.0   Feb                 3   \n",
       "4         0.02       0.05         0.0         0.0   Feb                 3   \n",
       "\n",
       "   Browser  Region  TrafficType        VisitorType  Weekend  Revenue  \n",
       "0        1       1            1  Returning_Visitor    False    False  \n",
       "1        2       1            2  Returning_Visitor    False    False  \n",
       "2        1       9            3  Returning_Visitor    False    False  \n",
       "3        2       2            4  Returning_Visitor    False    False  \n",
       "4        3       1            4  Returning_Visitor     True    False  "
      ]
     },
     "execution_count": 13,
     "metadata": {},
     "output_type": "execute_result"
    }
   ],
   "source": [
    "df.head()"
   ]
  },
  {
   "cell_type": "code",
   "execution_count": 14,
   "id": "99dac091",
   "metadata": {},
   "outputs": [
    {
     "name": "stdout",
     "output_type": "stream",
     "text": [
      "(12330, 18)\n"
     ]
    }
   ],
   "source": [
    "print(df.shape)"
   ]
  },
  {
   "cell_type": "code",
   "execution_count": 15,
   "id": "59c0dfdc",
   "metadata": {},
   "outputs": [
    {
     "data": {
      "text/plain": [
       "Index(['Administrative', 'Administrative_Duration', 'Informational',\n",
       "       'Informational_Duration', 'ProductRelated', 'ProductRelated_Duration',\n",
       "       'BounceRates', 'ExitRates', 'PageValues', 'SpecialDay', 'Month',\n",
       "       'OperatingSystems', 'Browser', 'Region', 'TrafficType', 'VisitorType',\n",
       "       'Weekend', 'Revenue'],\n",
       "      dtype='object')"
      ]
     },
     "execution_count": 15,
     "metadata": {},
     "output_type": "execute_result"
    }
   ],
   "source": [
    "df.columns"
   ]
  },
  {
   "cell_type": "code",
   "execution_count": 16,
   "id": "c8e271b1",
   "metadata": {},
   "outputs": [
    {
     "name": "stdout",
     "output_type": "stream",
     "text": [
      "<class 'pandas.core.frame.DataFrame'>\n",
      "RangeIndex: 12330 entries, 0 to 12329\n",
      "Data columns (total 18 columns):\n",
      " #   Column                   Non-Null Count  Dtype  \n",
      "---  ------                   --------------  -----  \n",
      " 0   Administrative           12330 non-null  int64  \n",
      " 1   Administrative_Duration  12330 non-null  float64\n",
      " 2   Informational            12330 non-null  int64  \n",
      " 3   Informational_Duration   12330 non-null  float64\n",
      " 4   ProductRelated           12330 non-null  int64  \n",
      " 5   ProductRelated_Duration  12330 non-null  float64\n",
      " 6   BounceRates              12330 non-null  float64\n",
      " 7   ExitRates                12330 non-null  float64\n",
      " 8   PageValues               12330 non-null  float64\n",
      " 9   SpecialDay               12330 non-null  float64\n",
      " 10  Month                    12330 non-null  object \n",
      " 11  OperatingSystems         12330 non-null  int64  \n",
      " 12  Browser                  12330 non-null  int64  \n",
      " 13  Region                   12330 non-null  int64  \n",
      " 14  TrafficType              12330 non-null  int64  \n",
      " 15  VisitorType              12330 non-null  object \n",
      " 16  Weekend                  12330 non-null  bool   \n",
      " 17  Revenue                  12330 non-null  bool   \n",
      "dtypes: bool(2), float64(7), int64(7), object(2)\n",
      "memory usage: 1.5+ MB\n"
     ]
    }
   ],
   "source": [
    "df.info()"
   ]
  },
  {
   "cell_type": "code",
   "execution_count": 17,
   "id": "68dd3731",
   "metadata": {},
   "outputs": [
    {
     "data": {
      "text/plain": [
       "Administrative             0\n",
       "Administrative_Duration    0\n",
       "Informational              0\n",
       "Informational_Duration     0\n",
       "ProductRelated             0\n",
       "ProductRelated_Duration    0\n",
       "BounceRates                0\n",
       "ExitRates                  0\n",
       "PageValues                 0\n",
       "SpecialDay                 0\n",
       "Month                      0\n",
       "OperatingSystems           0\n",
       "Browser                    0\n",
       "Region                     0\n",
       "TrafficType                0\n",
       "VisitorType                0\n",
       "Weekend                    0\n",
       "Revenue                    0\n",
       "dtype: int64"
      ]
     },
     "execution_count": 17,
     "metadata": {},
     "output_type": "execute_result"
    }
   ],
   "source": [
    "df.isnull().sum()"
   ]
  },
  {
   "cell_type": "code",
   "execution_count": 18,
   "id": "d9aa0ed1",
   "metadata": {},
   "outputs": [
    {
     "data": {
      "text/html": [
       "<div>\n",
       "<style scoped>\n",
       "    .dataframe tbody tr th:only-of-type {\n",
       "        vertical-align: middle;\n",
       "    }\n",
       "\n",
       "    .dataframe tbody tr th {\n",
       "        vertical-align: top;\n",
       "    }\n",
       "\n",
       "    .dataframe thead th {\n",
       "        text-align: right;\n",
       "    }\n",
       "</style>\n",
       "<table border=\"1\" class=\"dataframe\">\n",
       "  <thead>\n",
       "    <tr style=\"text-align: right;\">\n",
       "      <th></th>\n",
       "      <th>count</th>\n",
       "      <th>mean</th>\n",
       "      <th>std</th>\n",
       "      <th>min</th>\n",
       "      <th>25%</th>\n",
       "      <th>50%</th>\n",
       "      <th>75%</th>\n",
       "      <th>max</th>\n",
       "    </tr>\n",
       "  </thead>\n",
       "  <tbody>\n",
       "    <tr>\n",
       "      <th>Administrative</th>\n",
       "      <td>12330.0</td>\n",
       "      <td>2.315166</td>\n",
       "      <td>3.321784</td>\n",
       "      <td>0.0</td>\n",
       "      <td>0.000000</td>\n",
       "      <td>1.000000</td>\n",
       "      <td>4.000000</td>\n",
       "      <td>27.000000</td>\n",
       "    </tr>\n",
       "    <tr>\n",
       "      <th>Administrative_Duration</th>\n",
       "      <td>12330.0</td>\n",
       "      <td>80.818611</td>\n",
       "      <td>176.779107</td>\n",
       "      <td>0.0</td>\n",
       "      <td>0.000000</td>\n",
       "      <td>7.500000</td>\n",
       "      <td>93.256250</td>\n",
       "      <td>3398.750000</td>\n",
       "    </tr>\n",
       "    <tr>\n",
       "      <th>Informational</th>\n",
       "      <td>12330.0</td>\n",
       "      <td>0.503569</td>\n",
       "      <td>1.270156</td>\n",
       "      <td>0.0</td>\n",
       "      <td>0.000000</td>\n",
       "      <td>0.000000</td>\n",
       "      <td>0.000000</td>\n",
       "      <td>24.000000</td>\n",
       "    </tr>\n",
       "    <tr>\n",
       "      <th>Informational_Duration</th>\n",
       "      <td>12330.0</td>\n",
       "      <td>34.472398</td>\n",
       "      <td>140.749294</td>\n",
       "      <td>0.0</td>\n",
       "      <td>0.000000</td>\n",
       "      <td>0.000000</td>\n",
       "      <td>0.000000</td>\n",
       "      <td>2549.375000</td>\n",
       "    </tr>\n",
       "    <tr>\n",
       "      <th>ProductRelated</th>\n",
       "      <td>12330.0</td>\n",
       "      <td>31.731468</td>\n",
       "      <td>44.475503</td>\n",
       "      <td>0.0</td>\n",
       "      <td>7.000000</td>\n",
       "      <td>18.000000</td>\n",
       "      <td>38.000000</td>\n",
       "      <td>705.000000</td>\n",
       "    </tr>\n",
       "    <tr>\n",
       "      <th>ProductRelated_Duration</th>\n",
       "      <td>12330.0</td>\n",
       "      <td>1194.746220</td>\n",
       "      <td>1913.669288</td>\n",
       "      <td>0.0</td>\n",
       "      <td>184.137500</td>\n",
       "      <td>598.936905</td>\n",
       "      <td>1464.157214</td>\n",
       "      <td>63973.522230</td>\n",
       "    </tr>\n",
       "    <tr>\n",
       "      <th>BounceRates</th>\n",
       "      <td>12330.0</td>\n",
       "      <td>0.022191</td>\n",
       "      <td>0.048488</td>\n",
       "      <td>0.0</td>\n",
       "      <td>0.000000</td>\n",
       "      <td>0.003112</td>\n",
       "      <td>0.016813</td>\n",
       "      <td>0.200000</td>\n",
       "    </tr>\n",
       "    <tr>\n",
       "      <th>ExitRates</th>\n",
       "      <td>12330.0</td>\n",
       "      <td>0.043073</td>\n",
       "      <td>0.048597</td>\n",
       "      <td>0.0</td>\n",
       "      <td>0.014286</td>\n",
       "      <td>0.025156</td>\n",
       "      <td>0.050000</td>\n",
       "      <td>0.200000</td>\n",
       "    </tr>\n",
       "    <tr>\n",
       "      <th>PageValues</th>\n",
       "      <td>12330.0</td>\n",
       "      <td>5.889258</td>\n",
       "      <td>18.568437</td>\n",
       "      <td>0.0</td>\n",
       "      <td>0.000000</td>\n",
       "      <td>0.000000</td>\n",
       "      <td>0.000000</td>\n",
       "      <td>361.763742</td>\n",
       "    </tr>\n",
       "    <tr>\n",
       "      <th>SpecialDay</th>\n",
       "      <td>12330.0</td>\n",
       "      <td>0.061427</td>\n",
       "      <td>0.198917</td>\n",
       "      <td>0.0</td>\n",
       "      <td>0.000000</td>\n",
       "      <td>0.000000</td>\n",
       "      <td>0.000000</td>\n",
       "      <td>1.000000</td>\n",
       "    </tr>\n",
       "    <tr>\n",
       "      <th>OperatingSystems</th>\n",
       "      <td>12330.0</td>\n",
       "      <td>2.124006</td>\n",
       "      <td>0.911325</td>\n",
       "      <td>1.0</td>\n",
       "      <td>2.000000</td>\n",
       "      <td>2.000000</td>\n",
       "      <td>3.000000</td>\n",
       "      <td>8.000000</td>\n",
       "    </tr>\n",
       "    <tr>\n",
       "      <th>Browser</th>\n",
       "      <td>12330.0</td>\n",
       "      <td>2.357097</td>\n",
       "      <td>1.717277</td>\n",
       "      <td>1.0</td>\n",
       "      <td>2.000000</td>\n",
       "      <td>2.000000</td>\n",
       "      <td>2.000000</td>\n",
       "      <td>13.000000</td>\n",
       "    </tr>\n",
       "    <tr>\n",
       "      <th>Region</th>\n",
       "      <td>12330.0</td>\n",
       "      <td>3.147364</td>\n",
       "      <td>2.401591</td>\n",
       "      <td>1.0</td>\n",
       "      <td>1.000000</td>\n",
       "      <td>3.000000</td>\n",
       "      <td>4.000000</td>\n",
       "      <td>9.000000</td>\n",
       "    </tr>\n",
       "    <tr>\n",
       "      <th>TrafficType</th>\n",
       "      <td>12330.0</td>\n",
       "      <td>4.069586</td>\n",
       "      <td>4.025169</td>\n",
       "      <td>1.0</td>\n",
       "      <td>2.000000</td>\n",
       "      <td>2.000000</td>\n",
       "      <td>4.000000</td>\n",
       "      <td>20.000000</td>\n",
       "    </tr>\n",
       "  </tbody>\n",
       "</table>\n",
       "</div>"
      ],
      "text/plain": [
       "                           count         mean          std  min         25%  \\\n",
       "Administrative           12330.0     2.315166     3.321784  0.0    0.000000   \n",
       "Administrative_Duration  12330.0    80.818611   176.779107  0.0    0.000000   \n",
       "Informational            12330.0     0.503569     1.270156  0.0    0.000000   \n",
       "Informational_Duration   12330.0    34.472398   140.749294  0.0    0.000000   \n",
       "ProductRelated           12330.0    31.731468    44.475503  0.0    7.000000   \n",
       "ProductRelated_Duration  12330.0  1194.746220  1913.669288  0.0  184.137500   \n",
       "BounceRates              12330.0     0.022191     0.048488  0.0    0.000000   \n",
       "ExitRates                12330.0     0.043073     0.048597  0.0    0.014286   \n",
       "PageValues               12330.0     5.889258    18.568437  0.0    0.000000   \n",
       "SpecialDay               12330.0     0.061427     0.198917  0.0    0.000000   \n",
       "OperatingSystems         12330.0     2.124006     0.911325  1.0    2.000000   \n",
       "Browser                  12330.0     2.357097     1.717277  1.0    2.000000   \n",
       "Region                   12330.0     3.147364     2.401591  1.0    1.000000   \n",
       "TrafficType              12330.0     4.069586     4.025169  1.0    2.000000   \n",
       "\n",
       "                                50%          75%           max  \n",
       "Administrative             1.000000     4.000000     27.000000  \n",
       "Administrative_Duration    7.500000    93.256250   3398.750000  \n",
       "Informational              0.000000     0.000000     24.000000  \n",
       "Informational_Duration     0.000000     0.000000   2549.375000  \n",
       "ProductRelated            18.000000    38.000000    705.000000  \n",
       "ProductRelated_Duration  598.936905  1464.157214  63973.522230  \n",
       "BounceRates                0.003112     0.016813      0.200000  \n",
       "ExitRates                  0.025156     0.050000      0.200000  \n",
       "PageValues                 0.000000     0.000000    361.763742  \n",
       "SpecialDay                 0.000000     0.000000      1.000000  \n",
       "OperatingSystems           2.000000     3.000000      8.000000  \n",
       "Browser                    2.000000     2.000000     13.000000  \n",
       "Region                     3.000000     4.000000      9.000000  \n",
       "TrafficType                2.000000     4.000000     20.000000  "
      ]
     },
     "execution_count": 18,
     "metadata": {},
     "output_type": "execute_result"
    }
   ],
   "source": [
    "df.describe().T"
   ]
  },
  {
   "cell_type": "markdown",
   "id": "679b74aa",
   "metadata": {},
   "source": [
    "## Feature Engineering"
   ]
  },
  {
   "cell_type": "code",
   "execution_count": 19,
   "id": "f1d77533",
   "metadata": {},
   "outputs": [],
   "source": [
    "df['Weekend'] = df['Weekend'].replace((True, False), (1,0))\n",
    "df['Revenue'] = df['Revenue'].replace((True, False),(1,0))"
   ]
  },
  {
   "cell_type": "code",
   "execution_count": 20,
   "id": "084fb9c4",
   "metadata": {},
   "outputs": [
    {
     "data": {
      "text/plain": [
       "0    10422\n",
       "1     1908\n",
       "Name: Revenue, dtype: int64"
      ]
     },
     "execution_count": 20,
     "metadata": {},
     "output_type": "execute_result"
    }
   ],
   "source": [
    "df['Revenue'].value_counts()"
   ]
  },
  {
   "cell_type": "code",
   "execution_count": 21,
   "id": "ad87db33",
   "metadata": {},
   "outputs": [
    {
     "data": {
      "text/html": [
       "<div>\n",
       "<style scoped>\n",
       "    .dataframe tbody tr th:only-of-type {\n",
       "        vertical-align: middle;\n",
       "    }\n",
       "\n",
       "    .dataframe tbody tr th {\n",
       "        vertical-align: top;\n",
       "    }\n",
       "\n",
       "    .dataframe thead th {\n",
       "        text-align: right;\n",
       "    }\n",
       "</style>\n",
       "<table border=\"1\" class=\"dataframe\">\n",
       "  <thead>\n",
       "    <tr style=\"text-align: right;\">\n",
       "      <th></th>\n",
       "      <th>Administrative</th>\n",
       "      <th>Administrative_Duration</th>\n",
       "      <th>Informational</th>\n",
       "      <th>Informational_Duration</th>\n",
       "      <th>ProductRelated</th>\n",
       "      <th>ProductRelated_Duration</th>\n",
       "      <th>BounceRates</th>\n",
       "      <th>ExitRates</th>\n",
       "      <th>PageValues</th>\n",
       "      <th>SpecialDay</th>\n",
       "      <th>Month</th>\n",
       "      <th>OperatingSystems</th>\n",
       "      <th>Browser</th>\n",
       "      <th>Region</th>\n",
       "      <th>TrafficType</th>\n",
       "      <th>VisitorType</th>\n",
       "      <th>Weekend</th>\n",
       "      <th>Revenue</th>\n",
       "    </tr>\n",
       "  </thead>\n",
       "  <tbody>\n",
       "    <tr>\n",
       "      <th>0</th>\n",
       "      <td>0</td>\n",
       "      <td>0.0</td>\n",
       "      <td>0</td>\n",
       "      <td>0.0</td>\n",
       "      <td>1</td>\n",
       "      <td>0.000000</td>\n",
       "      <td>0.20</td>\n",
       "      <td>0.20</td>\n",
       "      <td>0.0</td>\n",
       "      <td>0.0</td>\n",
       "      <td>Feb</td>\n",
       "      <td>1</td>\n",
       "      <td>1</td>\n",
       "      <td>1</td>\n",
       "      <td>1</td>\n",
       "      <td>Returning_Visitor</td>\n",
       "      <td>0</td>\n",
       "      <td>0</td>\n",
       "    </tr>\n",
       "    <tr>\n",
       "      <th>1</th>\n",
       "      <td>0</td>\n",
       "      <td>0.0</td>\n",
       "      <td>0</td>\n",
       "      <td>0.0</td>\n",
       "      <td>2</td>\n",
       "      <td>64.000000</td>\n",
       "      <td>0.00</td>\n",
       "      <td>0.10</td>\n",
       "      <td>0.0</td>\n",
       "      <td>0.0</td>\n",
       "      <td>Feb</td>\n",
       "      <td>2</td>\n",
       "      <td>2</td>\n",
       "      <td>1</td>\n",
       "      <td>2</td>\n",
       "      <td>Returning_Visitor</td>\n",
       "      <td>0</td>\n",
       "      <td>0</td>\n",
       "    </tr>\n",
       "    <tr>\n",
       "      <th>2</th>\n",
       "      <td>0</td>\n",
       "      <td>0.0</td>\n",
       "      <td>0</td>\n",
       "      <td>0.0</td>\n",
       "      <td>1</td>\n",
       "      <td>0.000000</td>\n",
       "      <td>0.20</td>\n",
       "      <td>0.20</td>\n",
       "      <td>0.0</td>\n",
       "      <td>0.0</td>\n",
       "      <td>Feb</td>\n",
       "      <td>4</td>\n",
       "      <td>1</td>\n",
       "      <td>9</td>\n",
       "      <td>3</td>\n",
       "      <td>Returning_Visitor</td>\n",
       "      <td>0</td>\n",
       "      <td>0</td>\n",
       "    </tr>\n",
       "    <tr>\n",
       "      <th>3</th>\n",
       "      <td>0</td>\n",
       "      <td>0.0</td>\n",
       "      <td>0</td>\n",
       "      <td>0.0</td>\n",
       "      <td>2</td>\n",
       "      <td>2.666667</td>\n",
       "      <td>0.05</td>\n",
       "      <td>0.14</td>\n",
       "      <td>0.0</td>\n",
       "      <td>0.0</td>\n",
       "      <td>Feb</td>\n",
       "      <td>3</td>\n",
       "      <td>2</td>\n",
       "      <td>2</td>\n",
       "      <td>4</td>\n",
       "      <td>Returning_Visitor</td>\n",
       "      <td>0</td>\n",
       "      <td>0</td>\n",
       "    </tr>\n",
       "    <tr>\n",
       "      <th>4</th>\n",
       "      <td>0</td>\n",
       "      <td>0.0</td>\n",
       "      <td>0</td>\n",
       "      <td>0.0</td>\n",
       "      <td>10</td>\n",
       "      <td>627.500000</td>\n",
       "      <td>0.02</td>\n",
       "      <td>0.05</td>\n",
       "      <td>0.0</td>\n",
       "      <td>0.0</td>\n",
       "      <td>Feb</td>\n",
       "      <td>3</td>\n",
       "      <td>3</td>\n",
       "      <td>1</td>\n",
       "      <td>4</td>\n",
       "      <td>Returning_Visitor</td>\n",
       "      <td>1</td>\n",
       "      <td>0</td>\n",
       "    </tr>\n",
       "  </tbody>\n",
       "</table>\n",
       "</div>"
      ],
      "text/plain": [
       "   Administrative  Administrative_Duration  Informational  \\\n",
       "0               0                      0.0              0   \n",
       "1               0                      0.0              0   \n",
       "2               0                      0.0              0   \n",
       "3               0                      0.0              0   \n",
       "4               0                      0.0              0   \n",
       "\n",
       "   Informational_Duration  ProductRelated  ProductRelated_Duration  \\\n",
       "0                     0.0               1                 0.000000   \n",
       "1                     0.0               2                64.000000   \n",
       "2                     0.0               1                 0.000000   \n",
       "3                     0.0               2                 2.666667   \n",
       "4                     0.0              10               627.500000   \n",
       "\n",
       "   BounceRates  ExitRates  PageValues  SpecialDay Month  OperatingSystems  \\\n",
       "0         0.20       0.20         0.0         0.0   Feb                 1   \n",
       "1         0.00       0.10         0.0         0.0   Feb                 2   \n",
       "2         0.20       0.20         0.0         0.0   Feb                 4   \n",
       "3         0.05       0.14         0.0         0.0   Feb                 3   \n",
       "4         0.02       0.05         0.0         0.0   Feb                 3   \n",
       "\n",
       "   Browser  Region  TrafficType        VisitorType  Weekend  Revenue  \n",
       "0        1       1            1  Returning_Visitor        0        0  \n",
       "1        2       1            2  Returning_Visitor        0        0  \n",
       "2        1       9            3  Returning_Visitor        0        0  \n",
       "3        2       2            4  Returning_Visitor        0        0  \n",
       "4        3       1            4  Returning_Visitor        1        0  "
      ]
     },
     "execution_count": 21,
     "metadata": {},
     "output_type": "execute_result"
    }
   ],
   "source": [
    "df.head()"
   ]
  },
  {
   "cell_type": "code",
   "execution_count": 22,
   "id": "3f7b2b22",
   "metadata": {},
   "outputs": [],
   "source": [
    "# VisitorType contains either Returning_Visitor or New_Visitor\n",
    "# Let’s add Returning_Visitor column to existing dataframe    "
   ]
  },
  {
   "cell_type": "code",
   "execution_count": 23,
   "id": "640369ac",
   "metadata": {},
   "outputs": [
    {
     "data": {
      "text/plain": [
       "Returning_Visitor    10551\n",
       "New_Visitor           1694\n",
       "Other                   85\n",
       "Name: VisitorType, dtype: int64"
      ]
     },
     "execution_count": 23,
     "metadata": {},
     "output_type": "execute_result"
    }
   ],
   "source": [
    "df['VisitorType'].value_counts()"
   ]
  },
  {
   "cell_type": "code",
   "execution_count": 24,
   "id": "711884a3",
   "metadata": {},
   "outputs": [],
   "source": [
    "condition = df['VisitorType'] == 'Returning_Visitor'\n",
    "df['Returning_Visitor'] = np.where(condition, 1, 0)\n",
    "\n",
    "df = df.drop(columns=['VisitorType'])"
   ]
  },
  {
   "cell_type": "code",
   "execution_count": 25,
   "id": "d0a24205",
   "metadata": {},
   "outputs": [
    {
     "data": {
      "text/html": [
       "<div>\n",
       "<style scoped>\n",
       "    .dataframe tbody tr th:only-of-type {\n",
       "        vertical-align: middle;\n",
       "    }\n",
       "\n",
       "    .dataframe tbody tr th {\n",
       "        vertical-align: top;\n",
       "    }\n",
       "\n",
       "    .dataframe thead th {\n",
       "        text-align: right;\n",
       "    }\n",
       "</style>\n",
       "<table border=\"1\" class=\"dataframe\">\n",
       "  <thead>\n",
       "    <tr style=\"text-align: right;\">\n",
       "      <th></th>\n",
       "      <th>Administrative</th>\n",
       "      <th>Administrative_Duration</th>\n",
       "      <th>Informational</th>\n",
       "      <th>Informational_Duration</th>\n",
       "      <th>ProductRelated</th>\n",
       "      <th>ProductRelated_Duration</th>\n",
       "      <th>BounceRates</th>\n",
       "      <th>ExitRates</th>\n",
       "      <th>PageValues</th>\n",
       "      <th>SpecialDay</th>\n",
       "      <th>Month</th>\n",
       "      <th>OperatingSystems</th>\n",
       "      <th>Browser</th>\n",
       "      <th>Region</th>\n",
       "      <th>TrafficType</th>\n",
       "      <th>Weekend</th>\n",
       "      <th>Revenue</th>\n",
       "      <th>Returning_Visitor</th>\n",
       "    </tr>\n",
       "  </thead>\n",
       "  <tbody>\n",
       "    <tr>\n",
       "      <th>0</th>\n",
       "      <td>0</td>\n",
       "      <td>0.0</td>\n",
       "      <td>0</td>\n",
       "      <td>0.0</td>\n",
       "      <td>1</td>\n",
       "      <td>0.000000</td>\n",
       "      <td>0.20</td>\n",
       "      <td>0.20</td>\n",
       "      <td>0.0</td>\n",
       "      <td>0.0</td>\n",
       "      <td>Feb</td>\n",
       "      <td>1</td>\n",
       "      <td>1</td>\n",
       "      <td>1</td>\n",
       "      <td>1</td>\n",
       "      <td>0</td>\n",
       "      <td>0</td>\n",
       "      <td>1</td>\n",
       "    </tr>\n",
       "    <tr>\n",
       "      <th>1</th>\n",
       "      <td>0</td>\n",
       "      <td>0.0</td>\n",
       "      <td>0</td>\n",
       "      <td>0.0</td>\n",
       "      <td>2</td>\n",
       "      <td>64.000000</td>\n",
       "      <td>0.00</td>\n",
       "      <td>0.10</td>\n",
       "      <td>0.0</td>\n",
       "      <td>0.0</td>\n",
       "      <td>Feb</td>\n",
       "      <td>2</td>\n",
       "      <td>2</td>\n",
       "      <td>1</td>\n",
       "      <td>2</td>\n",
       "      <td>0</td>\n",
       "      <td>0</td>\n",
       "      <td>1</td>\n",
       "    </tr>\n",
       "    <tr>\n",
       "      <th>2</th>\n",
       "      <td>0</td>\n",
       "      <td>0.0</td>\n",
       "      <td>0</td>\n",
       "      <td>0.0</td>\n",
       "      <td>1</td>\n",
       "      <td>0.000000</td>\n",
       "      <td>0.20</td>\n",
       "      <td>0.20</td>\n",
       "      <td>0.0</td>\n",
       "      <td>0.0</td>\n",
       "      <td>Feb</td>\n",
       "      <td>4</td>\n",
       "      <td>1</td>\n",
       "      <td>9</td>\n",
       "      <td>3</td>\n",
       "      <td>0</td>\n",
       "      <td>0</td>\n",
       "      <td>1</td>\n",
       "    </tr>\n",
       "    <tr>\n",
       "      <th>3</th>\n",
       "      <td>0</td>\n",
       "      <td>0.0</td>\n",
       "      <td>0</td>\n",
       "      <td>0.0</td>\n",
       "      <td>2</td>\n",
       "      <td>2.666667</td>\n",
       "      <td>0.05</td>\n",
       "      <td>0.14</td>\n",
       "      <td>0.0</td>\n",
       "      <td>0.0</td>\n",
       "      <td>Feb</td>\n",
       "      <td>3</td>\n",
       "      <td>2</td>\n",
       "      <td>2</td>\n",
       "      <td>4</td>\n",
       "      <td>0</td>\n",
       "      <td>0</td>\n",
       "      <td>1</td>\n",
       "    </tr>\n",
       "    <tr>\n",
       "      <th>4</th>\n",
       "      <td>0</td>\n",
       "      <td>0.0</td>\n",
       "      <td>0</td>\n",
       "      <td>0.0</td>\n",
       "      <td>10</td>\n",
       "      <td>627.500000</td>\n",
       "      <td>0.02</td>\n",
       "      <td>0.05</td>\n",
       "      <td>0.0</td>\n",
       "      <td>0.0</td>\n",
       "      <td>Feb</td>\n",
       "      <td>3</td>\n",
       "      <td>3</td>\n",
       "      <td>1</td>\n",
       "      <td>4</td>\n",
       "      <td>1</td>\n",
       "      <td>0</td>\n",
       "      <td>1</td>\n",
       "    </tr>\n",
       "  </tbody>\n",
       "</table>\n",
       "</div>"
      ],
      "text/plain": [
       "   Administrative  Administrative_Duration  Informational  \\\n",
       "0               0                      0.0              0   \n",
       "1               0                      0.0              0   \n",
       "2               0                      0.0              0   \n",
       "3               0                      0.0              0   \n",
       "4               0                      0.0              0   \n",
       "\n",
       "   Informational_Duration  ProductRelated  ProductRelated_Duration  \\\n",
       "0                     0.0               1                 0.000000   \n",
       "1                     0.0               2                64.000000   \n",
       "2                     0.0               1                 0.000000   \n",
       "3                     0.0               2                 2.666667   \n",
       "4                     0.0              10               627.500000   \n",
       "\n",
       "   BounceRates  ExitRates  PageValues  SpecialDay Month  OperatingSystems  \\\n",
       "0         0.20       0.20         0.0         0.0   Feb                 1   \n",
       "1         0.00       0.10         0.0         0.0   Feb                 2   \n",
       "2         0.20       0.20         0.0         0.0   Feb                 4   \n",
       "3         0.05       0.14         0.0         0.0   Feb                 3   \n",
       "4         0.02       0.05         0.0         0.0   Feb                 3   \n",
       "\n",
       "   Browser  Region  TrafficType  Weekend  Revenue  Returning_Visitor  \n",
       "0        1       1            1        0        0                  1  \n",
       "1        2       1            2        0        0                  1  \n",
       "2        1       9            3        0        0                  1  \n",
       "3        2       2            4        0        0                  1  \n",
       "4        3       1            4        1        0                  1  "
      ]
     },
     "execution_count": 25,
     "metadata": {},
     "output_type": "execute_result"
    }
   ],
   "source": [
    "df.head()"
   ]
  },
  {
   "cell_type": "code",
   "execution_count": 26,
   "id": "e297ac5d",
   "metadata": {},
   "outputs": [
    {
     "data": {
      "text/plain": [
       "1    10551\n",
       "0     1779\n",
       "Name: Returning_Visitor, dtype: int64"
      ]
     },
     "execution_count": 26,
     "metadata": {},
     "output_type": "execute_result"
    }
   ],
   "source": [
    "df['Returning_Visitor'].value_counts()"
   ]
  },
  {
   "cell_type": "markdown",
   "id": "0880fc62",
   "metadata": {},
   "source": [
    "## Applying Ordinal Encoding on Month column"
   ]
  },
  {
   "cell_type": "code",
   "execution_count": 27,
   "id": "0cac12bc",
   "metadata": {},
   "outputs": [
    {
     "data": {
      "text/plain": [
       "May     3364\n",
       "Nov     2998\n",
       "Mar     1907\n",
       "Dec     1727\n",
       "Oct      549\n",
       "Sep      448\n",
       "Aug      433\n",
       "Jul      432\n",
       "June     288\n",
       "Feb      184\n",
       "Name: Month, dtype: int64"
      ]
     },
     "execution_count": 27,
     "metadata": {},
     "output_type": "execute_result"
    }
   ],
   "source": [
    "df['Month'].value_counts()"
   ]
  },
  {
   "cell_type": "code",
   "execution_count": 28,
   "id": "074798ec",
   "metadata": {},
   "outputs": [
    {
     "data": {
      "text/plain": [
       "array(['Feb', 'Mar', 'May', 'Oct', 'June', 'Jul', 'Aug', 'Nov', 'Sep',\n",
       "       'Dec'], dtype=object)"
      ]
     },
     "execution_count": 28,
     "metadata": {},
     "output_type": "execute_result"
    }
   ],
   "source": [
    "df['Month'].unique()"
   ]
  },
  {
   "cell_type": "code",
   "execution_count": 29,
   "id": "403ff3ff",
   "metadata": {},
   "outputs": [],
   "source": [
    "ordinal_encoder = OrdinalEncoder()\n",
    "df['Month'] = ordinal_encoder.fit_transform(df[['Month']])"
   ]
  },
  {
   "cell_type": "code",
   "execution_count": 30,
   "id": "c4732e3c",
   "metadata": {},
   "outputs": [
    {
     "data": {
      "text/html": [
       "<div>\n",
       "<style scoped>\n",
       "    .dataframe tbody tr th:only-of-type {\n",
       "        vertical-align: middle;\n",
       "    }\n",
       "\n",
       "    .dataframe tbody tr th {\n",
       "        vertical-align: top;\n",
       "    }\n",
       "\n",
       "    .dataframe thead th {\n",
       "        text-align: right;\n",
       "    }\n",
       "</style>\n",
       "<table border=\"1\" class=\"dataframe\">\n",
       "  <thead>\n",
       "    <tr style=\"text-align: right;\">\n",
       "      <th></th>\n",
       "      <th>Administrative</th>\n",
       "      <th>Administrative_Duration</th>\n",
       "      <th>Informational</th>\n",
       "      <th>Informational_Duration</th>\n",
       "      <th>ProductRelated</th>\n",
       "      <th>ProductRelated_Duration</th>\n",
       "      <th>BounceRates</th>\n",
       "      <th>ExitRates</th>\n",
       "      <th>PageValues</th>\n",
       "      <th>SpecialDay</th>\n",
       "      <th>Month</th>\n",
       "      <th>OperatingSystems</th>\n",
       "      <th>Browser</th>\n",
       "      <th>Region</th>\n",
       "      <th>TrafficType</th>\n",
       "      <th>Weekend</th>\n",
       "      <th>Revenue</th>\n",
       "      <th>Returning_Visitor</th>\n",
       "    </tr>\n",
       "  </thead>\n",
       "  <tbody>\n",
       "    <tr>\n",
       "      <th>0</th>\n",
       "      <td>0</td>\n",
       "      <td>0.0</td>\n",
       "      <td>0</td>\n",
       "      <td>0.0</td>\n",
       "      <td>1</td>\n",
       "      <td>0.000000</td>\n",
       "      <td>0.20</td>\n",
       "      <td>0.20</td>\n",
       "      <td>0.0</td>\n",
       "      <td>0.0</td>\n",
       "      <td>2.0</td>\n",
       "      <td>1</td>\n",
       "      <td>1</td>\n",
       "      <td>1</td>\n",
       "      <td>1</td>\n",
       "      <td>0</td>\n",
       "      <td>0</td>\n",
       "      <td>1</td>\n",
       "    </tr>\n",
       "    <tr>\n",
       "      <th>1</th>\n",
       "      <td>0</td>\n",
       "      <td>0.0</td>\n",
       "      <td>0</td>\n",
       "      <td>0.0</td>\n",
       "      <td>2</td>\n",
       "      <td>64.000000</td>\n",
       "      <td>0.00</td>\n",
       "      <td>0.10</td>\n",
       "      <td>0.0</td>\n",
       "      <td>0.0</td>\n",
       "      <td>2.0</td>\n",
       "      <td>2</td>\n",
       "      <td>2</td>\n",
       "      <td>1</td>\n",
       "      <td>2</td>\n",
       "      <td>0</td>\n",
       "      <td>0</td>\n",
       "      <td>1</td>\n",
       "    </tr>\n",
       "    <tr>\n",
       "      <th>2</th>\n",
       "      <td>0</td>\n",
       "      <td>0.0</td>\n",
       "      <td>0</td>\n",
       "      <td>0.0</td>\n",
       "      <td>1</td>\n",
       "      <td>0.000000</td>\n",
       "      <td>0.20</td>\n",
       "      <td>0.20</td>\n",
       "      <td>0.0</td>\n",
       "      <td>0.0</td>\n",
       "      <td>2.0</td>\n",
       "      <td>4</td>\n",
       "      <td>1</td>\n",
       "      <td>9</td>\n",
       "      <td>3</td>\n",
       "      <td>0</td>\n",
       "      <td>0</td>\n",
       "      <td>1</td>\n",
       "    </tr>\n",
       "    <tr>\n",
       "      <th>3</th>\n",
       "      <td>0</td>\n",
       "      <td>0.0</td>\n",
       "      <td>0</td>\n",
       "      <td>0.0</td>\n",
       "      <td>2</td>\n",
       "      <td>2.666667</td>\n",
       "      <td>0.05</td>\n",
       "      <td>0.14</td>\n",
       "      <td>0.0</td>\n",
       "      <td>0.0</td>\n",
       "      <td>2.0</td>\n",
       "      <td>3</td>\n",
       "      <td>2</td>\n",
       "      <td>2</td>\n",
       "      <td>4</td>\n",
       "      <td>0</td>\n",
       "      <td>0</td>\n",
       "      <td>1</td>\n",
       "    </tr>\n",
       "    <tr>\n",
       "      <th>4</th>\n",
       "      <td>0</td>\n",
       "      <td>0.0</td>\n",
       "      <td>0</td>\n",
       "      <td>0.0</td>\n",
       "      <td>10</td>\n",
       "      <td>627.500000</td>\n",
       "      <td>0.02</td>\n",
       "      <td>0.05</td>\n",
       "      <td>0.0</td>\n",
       "      <td>0.0</td>\n",
       "      <td>2.0</td>\n",
       "      <td>3</td>\n",
       "      <td>3</td>\n",
       "      <td>1</td>\n",
       "      <td>4</td>\n",
       "      <td>1</td>\n",
       "      <td>0</td>\n",
       "      <td>1</td>\n",
       "    </tr>\n",
       "  </tbody>\n",
       "</table>\n",
       "</div>"
      ],
      "text/plain": [
       "   Administrative  Administrative_Duration  Informational  \\\n",
       "0               0                      0.0              0   \n",
       "1               0                      0.0              0   \n",
       "2               0                      0.0              0   \n",
       "3               0                      0.0              0   \n",
       "4               0                      0.0              0   \n",
       "\n",
       "   Informational_Duration  ProductRelated  ProductRelated_Duration  \\\n",
       "0                     0.0               1                 0.000000   \n",
       "1                     0.0               2                64.000000   \n",
       "2                     0.0               1                 0.000000   \n",
       "3                     0.0               2                 2.666667   \n",
       "4                     0.0              10               627.500000   \n",
       "\n",
       "   BounceRates  ExitRates  PageValues  SpecialDay  Month  OperatingSystems  \\\n",
       "0         0.20       0.20         0.0         0.0    2.0                 1   \n",
       "1         0.00       0.10         0.0         0.0    2.0                 2   \n",
       "2         0.20       0.20         0.0         0.0    2.0                 4   \n",
       "3         0.05       0.14         0.0         0.0    2.0                 3   \n",
       "4         0.02       0.05         0.0         0.0    2.0                 3   \n",
       "\n",
       "   Browser  Region  TrafficType  Weekend  Revenue  Returning_Visitor  \n",
       "0        1       1            1        0        0                  1  \n",
       "1        2       1            2        0        0                  1  \n",
       "2        1       9            3        0        0                  1  \n",
       "3        2       2            4        0        0                  1  \n",
       "4        3       1            4        1        0                  1  "
      ]
     },
     "execution_count": 30,
     "metadata": {},
     "output_type": "execute_result"
    }
   ],
   "source": [
    "df.head()"
   ]
  },
  {
   "cell_type": "code",
   "execution_count": 31,
   "id": "700ae1bf",
   "metadata": {},
   "outputs": [
    {
     "data": {
      "text/plain": [
       "6.0    3364\n",
       "7.0    2998\n",
       "5.0    1907\n",
       "1.0    1727\n",
       "8.0     549\n",
       "9.0     448\n",
       "0.0     433\n",
       "3.0     432\n",
       "4.0     288\n",
       "2.0     184\n",
       "Name: Month, dtype: int64"
      ]
     },
     "execution_count": 31,
     "metadata": {},
     "output_type": "execute_result"
    }
   ],
   "source": [
    "df['Month'].value_counts()"
   ]
  },
  {
   "cell_type": "markdown",
   "id": "6df4f29c",
   "metadata": {},
   "source": [
    "## Checking correlation on revenue column"
   ]
  },
  {
   "cell_type": "code",
   "execution_count": 32,
   "id": "8ed66aa9",
   "metadata": {},
   "outputs": [],
   "source": [
    "result = df[df.columns[1:]].corr()['Revenue']\n",
    "result1 = result.sort_values(ascending=False)"
   ]
  },
  {
   "cell_type": "code",
   "execution_count": 33,
   "id": "a8c8fea7",
   "metadata": {},
   "outputs": [
    {
     "data": {
      "text/plain": [
       "Revenue                    1.000000\n",
       "PageValues                 0.492569\n",
       "ProductRelated             0.158538\n",
       "ProductRelated_Duration    0.152373\n",
       "Informational              0.095200\n",
       "Administrative_Duration    0.093587\n",
       "Month                      0.080150\n",
       "Informational_Duration     0.070345\n",
       "Weekend                    0.029295\n",
       "Browser                    0.023984\n",
       "TrafficType               -0.005113\n",
       "Region                    -0.011595\n",
       "OperatingSystems          -0.014668\n",
       "SpecialDay                -0.082305\n",
       "Returning_Visitor         -0.103843\n",
       "BounceRates               -0.150673\n",
       "ExitRates                 -0.207071\n",
       "Name: Revenue, dtype: float64"
      ]
     },
     "execution_count": 33,
     "metadata": {},
     "output_type": "execute_result"
    }
   ],
   "source": [
    "result1"
   ]
  },
  {
   "cell_type": "markdown",
   "id": "1fc345c7",
   "metadata": {},
   "source": [
    "## Prepairing Features as X and target as y"
   ]
  },
  {
   "cell_type": "code",
   "execution_count": 34,
   "id": "83a971b5",
   "metadata": {},
   "outputs": [],
   "source": [
    "X = df.drop(['Revenue'], axis=1)\n",
    "y = df['Revenue']"
   ]
  },
  {
   "cell_type": "markdown",
   "id": "75c174f8",
   "metadata": {},
   "source": [
    "## Train and Test split"
   ]
  },
  {
   "cell_type": "code",
   "execution_count": 35,
   "id": "2ea554d2",
   "metadata": {},
   "outputs": [],
   "source": [
    "X_train, X_test, y_train, y_test = train_test_split(X,y, test_size=0.3, random_state=0)"
   ]
  },
  {
   "cell_type": "markdown",
   "id": "5925a69d",
   "metadata": {},
   "source": [
    "## Model Pipeline"
   ]
  },
  {
   "cell_type": "code",
   "execution_count": 36,
   "id": "1a9c276f",
   "metadata": {},
   "outputs": [],
   "source": [
    "def model_pipeline(X, model):\n",
    "    n_c = X.select_dtypes(exclude=['object']).columns.values.tolist()\n",
    "    c_c = X.select_dtypes(include=['object']).columns.values.tolist()\n",
    "    \n",
    "    numeric_columns = n_c\n",
    "    categorical_columns = c_c\n",
    "    \n",
    "    numeric_pipeline = SimpleImputer(strategy = 'constant')\n",
    "    categorical_pipeline = OneHotEncoder(handle_unknown = 'ignore')\n",
    "    \n",
    "    a = ('numeric', numeric_pipeline, numeric_columns)\n",
    "    b = ('categorical', categorical_pipeline, categorical_columns)\n",
    "    \n",
    "    preprocessor = ColumnTransformer(\n",
    "    transformers = [a,b],\n",
    "    remainder = 'passthrough'\n",
    "    )\n",
    "    \n",
    "    c = ('preprocessor', preprocessor)\n",
    "    d = ('smote', SMOTE(random_state=1))\n",
    "    e = ('scaler', MinMaxScaler())\n",
    "    f = ('feature_selection', SelectKBest(score_func = chi2, k=6))\n",
    "    g = ('model', model)\n",
    "    \n",
    "    bundled_pipeline = imbpipeline(steps = [c,d,e,f,g])\n",
    "    \n",
    "    return bundled_pipeline"
   ]
  },
  {
   "cell_type": "markdown",
   "id": "783a4f14",
   "metadata": {},
   "source": [
    "## Model Selection"
   ]
  },
  {
   "cell_type": "code",
   "execution_count": 37,
   "id": "d21177c3",
   "metadata": {},
   "outputs": [],
   "source": [
    "def select_model(X,y,pipeline=None):\n",
    "    \n",
    "    classifiers = {}\n",
    "    \n",
    "    c_d1 = {'DummyClassifier': DummyClassifier(strategy='most_frequent')}\n",
    "    classifiers.update(c_d1)\n",
    "    \n",
    "    xgb = XGBClassifier(\n",
    "        verbosity = 0,\n",
    "        use_label_encoder = False,\n",
    "        eval_metric = 'logloss',\n",
    "        objective = 'binary:logistic',\n",
    "    )\n",
    "    \n",
    "    c_d2 = {'XGBClassifier': xgb}\n",
    "    classifiers.update(c_d2)\n",
    "    \n",
    "    c_d3 = {'LGBMClassifier': LGBMClassifier()}\n",
    "    classifiers.update(c_d3)\n",
    "    \n",
    "    c_d4 = {'RandomForesClassifier': RandomForestClassifier()}\n",
    "    classifiers.update(c_d4)\n",
    "    \n",
    "    c_d5 = {'DecisionTreeClassifier': DecisionTreeClassifier()}\n",
    "    classifiers.update(c_d5)\n",
    "    \n",
    "    c_d6 = {'ExtraTreeClassifier': ExtraTreeClassifier()}\n",
    "    classifiers.update(c_d6)\n",
    "    \n",
    "    c_d7 = {'ExtraTreesClassifier': ExtraTreeClassifier()}\n",
    "    classifiers.update(c_d7)\n",
    "    \n",
    "    c_d8 = {'AdaBoostClassifier': AdaBoostClassifier()}\n",
    "    classifiers.update(c_d8)\n",
    "    \n",
    "    c_d9 = {'KNeighborsClassifier': KNeighborsClassifier()}\n",
    "    classifiers.update(c_d9)\n",
    "    \n",
    "    c_d10 = {\"RidgeClassifier\": RidgeClassifier()}\n",
    "    classifiers.update(c_d10)\n",
    "\n",
    "    c_d11 = {\"SGDClassifier\": SGDClassifier()}\n",
    "    classifiers.update(c_d11)\n",
    "\n",
    "    c_d12 = {\"BaggingClassifier\": BaggingClassifier()}\n",
    "    classifiers.update(c_d12)\n",
    "\n",
    "    c_d13 = {\"BernoulliNB\": BernoulliNB()}\n",
    "    classifiers.update(c_d13)\n",
    "\n",
    "    c_d14 = {\"SVC\": SVC()}\n",
    "    classifiers.update(c_d14)\n",
    "\n",
    "    c_d15 = {\"MLPClassifier\": MLPClassifier()}\n",
    "    classifiers.update(c_d15)\n",
    "    \n",
    "    mlpc = {\n",
    "        \"MLPClassifier (paper)\": MLPClassifier(hidden_layer_sizes=(27,50),\n",
    "                                              max_iter = 300,\n",
    "                                              activation = 'relu',\n",
    "                                              solver = 'adam',\n",
    "                                              random_state=1)\n",
    "    }\n",
    "    c_d16 = mlpc\n",
    "    classifiers.update(c_d16)\n",
    "    \n",
    "    cols = ['model','run_time','roc_auc']\n",
    "    df_models = pd.DataFrame(columns=cols)\n",
    "    \n",
    "    for key in classifiers:\n",
    "        \n",
    "        start_time = time.time()\n",
    "        \n",
    "        print()\n",
    "        print('model_pipeline run succesfully on', key)\n",
    "        \n",
    "        pipeline = model_pipeline(X_train, classifiers[key])\n",
    "        \n",
    "        cv = cross_val_score(pipeline,X,y,cv=10, scoring = 'roc_auc')\n",
    "        \n",
    "        row = {'model': key,\n",
    "              'run_time':format(round((time.time()-start_time)/60,2)),\n",
    "              'roc_auc': cv.mean(),\n",
    "              }\n",
    "        \n",
    "        df_models = pd.concat([df_models, pd.DataFrame([row])], ignore_index=True)\n",
    "        \n",
    "    df_models = df_models.sort_values(by='roc_auc', ascending=False)\n",
    "    return df_models\n",
    "    "
   ]
  },
  {
   "cell_type": "markdown",
   "id": "61ab7374",
   "metadata": {},
   "source": [
    "## Access Model - select_model function"
   ]
  },
  {
   "cell_type": "code",
   "execution_count": 38,
   "id": "2de272cf",
   "metadata": {},
   "outputs": [
    {
     "name": "stdout",
     "output_type": "stream",
     "text": [
      "\n",
      "model_pipeline run succesfully on DummyClassifier\n",
      "\n",
      "model_pipeline run succesfully on XGBClassifier\n",
      "\n",
      "model_pipeline run succesfully on LGBMClassifier\n",
      "\n",
      "model_pipeline run succesfully on RandomForesClassifier\n",
      "\n",
      "model_pipeline run succesfully on DecisionTreeClassifier\n",
      "\n",
      "model_pipeline run succesfully on ExtraTreeClassifier\n",
      "\n",
      "model_pipeline run succesfully on ExtraTreesClassifier\n",
      "\n",
      "model_pipeline run succesfully on AdaBoostClassifier\n",
      "\n",
      "model_pipeline run succesfully on KNeighborsClassifier\n",
      "\n",
      "model_pipeline run succesfully on RidgeClassifier\n",
      "\n",
      "model_pipeline run succesfully on SGDClassifier\n",
      "\n",
      "model_pipeline run succesfully on BaggingClassifier\n",
      "\n",
      "model_pipeline run succesfully on BernoulliNB\n",
      "\n",
      "model_pipeline run succesfully on SVC\n",
      "\n",
      "model_pipeline run succesfully on MLPClassifier\n",
      "\n",
      "model_pipeline run succesfully on MLPClassifier (paper)\n"
     ]
    }
   ],
   "source": [
    "models = select_model(X_train,y_train)"
   ]
  },
  {
   "cell_type": "code",
   "execution_count": 39,
   "id": "b5bdd187",
   "metadata": {},
   "outputs": [
    {
     "data": {
      "text/html": [
       "<div>\n",
       "<style scoped>\n",
       "    .dataframe tbody tr th:only-of-type {\n",
       "        vertical-align: middle;\n",
       "    }\n",
       "\n",
       "    .dataframe tbody tr th {\n",
       "        vertical-align: top;\n",
       "    }\n",
       "\n",
       "    .dataframe thead th {\n",
       "        text-align: right;\n",
       "    }\n",
       "</style>\n",
       "<table border=\"1\" class=\"dataframe\">\n",
       "  <thead>\n",
       "    <tr style=\"text-align: right;\">\n",
       "      <th></th>\n",
       "      <th>model</th>\n",
       "      <th>run_time</th>\n",
       "      <th>roc_auc</th>\n",
       "    </tr>\n",
       "  </thead>\n",
       "  <tbody>\n",
       "    <tr>\n",
       "      <th>14</th>\n",
       "      <td>MLPClassifier</td>\n",
       "      <td>2.72</td>\n",
       "      <td>0.9033</td>\n",
       "    </tr>\n",
       "    <tr>\n",
       "      <th>15</th>\n",
       "      <td>MLPClassifier (paper)</td>\n",
       "      <td>4.22</td>\n",
       "      <td>0.900118</td>\n",
       "    </tr>\n",
       "    <tr>\n",
       "      <th>2</th>\n",
       "      <td>LGBMClassifier</td>\n",
       "      <td>0.09</td>\n",
       "      <td>0.897217</td>\n",
       "    </tr>\n",
       "    <tr>\n",
       "      <th>1</th>\n",
       "      <td>XGBClassifier</td>\n",
       "      <td>0.16</td>\n",
       "      <td>0.891174</td>\n",
       "    </tr>\n",
       "    <tr>\n",
       "      <th>7</th>\n",
       "      <td>AdaBoostClassifier</td>\n",
       "      <td>0.07</td>\n",
       "      <td>0.888264</td>\n",
       "    </tr>\n",
       "    <tr>\n",
       "      <th>10</th>\n",
       "      <td>SGDClassifier</td>\n",
       "      <td>0.01</td>\n",
       "      <td>0.887928</td>\n",
       "    </tr>\n",
       "    <tr>\n",
       "      <th>13</th>\n",
       "      <td>SVC</td>\n",
       "      <td>2.51</td>\n",
       "      <td>0.885963</td>\n",
       "    </tr>\n",
       "    <tr>\n",
       "      <th>3</th>\n",
       "      <td>RandomForesClassifier</td>\n",
       "      <td>0.18</td>\n",
       "      <td>0.885935</td>\n",
       "    </tr>\n",
       "    <tr>\n",
       "      <th>11</th>\n",
       "      <td>BaggingClassifier</td>\n",
       "      <td>0.05</td>\n",
       "      <td>0.864238</td>\n",
       "    </tr>\n",
       "    <tr>\n",
       "      <th>12</th>\n",
       "      <td>BernoulliNB</td>\n",
       "      <td>0.01</td>\n",
       "      <td>0.857851</td>\n",
       "    </tr>\n",
       "    <tr>\n",
       "      <th>9</th>\n",
       "      <td>RidgeClassifier</td>\n",
       "      <td>0.01</td>\n",
       "      <td>0.855441</td>\n",
       "    </tr>\n",
       "    <tr>\n",
       "      <th>8</th>\n",
       "      <td>KNeighborsClassifier</td>\n",
       "      <td>0.01</td>\n",
       "      <td>0.840505</td>\n",
       "    </tr>\n",
       "    <tr>\n",
       "      <th>5</th>\n",
       "      <td>ExtraTreeClassifier</td>\n",
       "      <td>0.01</td>\n",
       "      <td>0.757458</td>\n",
       "    </tr>\n",
       "    <tr>\n",
       "      <th>6</th>\n",
       "      <td>ExtraTreesClassifier</td>\n",
       "      <td>0.01</td>\n",
       "      <td>0.755057</td>\n",
       "    </tr>\n",
       "    <tr>\n",
       "      <th>4</th>\n",
       "      <td>DecisionTreeClassifier</td>\n",
       "      <td>0.01</td>\n",
       "      <td>0.734629</td>\n",
       "    </tr>\n",
       "    <tr>\n",
       "      <th>0</th>\n",
       "      <td>DummyClassifier</td>\n",
       "      <td>0.01</td>\n",
       "      <td>0.5</td>\n",
       "    </tr>\n",
       "  </tbody>\n",
       "</table>\n",
       "</div>"
      ],
      "text/plain": [
       "                     model run_time   roc_auc\n",
       "14           MLPClassifier     2.72    0.9033\n",
       "15   MLPClassifier (paper)     4.22  0.900118\n",
       "2           LGBMClassifier     0.09  0.897217\n",
       "1            XGBClassifier     0.16  0.891174\n",
       "7       AdaBoostClassifier     0.07  0.888264\n",
       "10           SGDClassifier     0.01  0.887928\n",
       "13                     SVC     2.51  0.885963\n",
       "3    RandomForesClassifier     0.18  0.885935\n",
       "11       BaggingClassifier     0.05  0.864238\n",
       "12             BernoulliNB     0.01  0.857851\n",
       "9          RidgeClassifier     0.01  0.855441\n",
       "8     KNeighborsClassifier     0.01  0.840505\n",
       "5      ExtraTreeClassifier     0.01  0.757458\n",
       "6     ExtraTreesClassifier     0.01  0.755057\n",
       "4   DecisionTreeClassifier     0.01  0.734629\n",
       "0          DummyClassifier     0.01       0.5"
      ]
     },
     "execution_count": 39,
     "metadata": {},
     "output_type": "execute_result"
    }
   ],
   "source": [
    "models"
   ]
  },
  {
   "cell_type": "markdown",
   "id": "243d69fc",
   "metadata": {},
   "source": [
    "## Accessing best model and trainig"
   ]
  },
  {
   "cell_type": "code",
   "execution_count": 40,
   "id": "9ddbec00",
   "metadata": {},
   "outputs": [
    {
     "data": {
      "text/plain": [
       "Pipeline(steps=[('preprocessor',\n",
       "                 ColumnTransformer(remainder='passthrough',\n",
       "                                   transformers=[('numeric',\n",
       "                                                  SimpleImputer(strategy='constant'),\n",
       "                                                  ['Administrative',\n",
       "                                                   'Administrative_Duration',\n",
       "                                                   'Informational',\n",
       "                                                   'Informational_Duration',\n",
       "                                                   'ProductRelated',\n",
       "                                                   'ProductRelated_Duration',\n",
       "                                                   'BounceRates', 'ExitRates',\n",
       "                                                   'PageValues', 'SpecialDay',\n",
       "                                                   'Month', 'OperatingSystems',\n",
       "                                                   'Browser', 'Region',\n",
       "                                                   'TrafficType', 'Weekend',\n",
       "                                                   'Returning_Visitor']),\n",
       "                                                 ('categorical',\n",
       "                                                  OneHotEncoder(handle_unknown='ignore'),\n",
       "                                                  [])])),\n",
       "                ('smote', SMOTE(random_state=1)), ('scaler', MinMaxScaler()),\n",
       "                ('feature_selection',\n",
       "                 SelectKBest(k=6,\n",
       "                             score_func=<function chi2 at 0x000001D1648D2B80>)),\n",
       "                ('model', MLPClassifier())])"
      ]
     },
     "execution_count": 40,
     "metadata": {},
     "output_type": "execute_result"
    }
   ],
   "source": [
    "selected_model = MLPClassifier()\n",
    "bundled_pipeline = model_pipeline(X_train, selected_model)\n",
    "bundled_pipeline.fit(X_train, y_train)"
   ]
  },
  {
   "cell_type": "code",
   "execution_count": 41,
   "id": "8c194490",
   "metadata": {},
   "outputs": [],
   "source": [
    "y_pred = bundled_pipeline.predict(X_test)"
   ]
  },
  {
   "cell_type": "code",
   "execution_count": 42,
   "id": "379aa435",
   "metadata": {},
   "outputs": [
    {
     "data": {
      "text/plain": [
       "array([0, 0, 0, ..., 0, 0, 0], dtype=int64)"
      ]
     },
     "execution_count": 42,
     "metadata": {},
     "output_type": "execute_result"
    }
   ],
   "source": [
    "y_pred"
   ]
  },
  {
   "cell_type": "markdown",
   "id": "685d3e00",
   "metadata": {},
   "source": [
    "## ROC and AUC Score"
   ]
  },
  {
   "cell_type": "code",
   "execution_count": 43,
   "id": "6de32a78",
   "metadata": {},
   "outputs": [],
   "source": [
    "roc_auc = roc_auc_score(y_test,y_pred)\n",
    "accuracy = accuracy_score(y_test,y_pred)\n",
    "f1_score = f1_score(y_test,y_pred)"
   ]
  },
  {
   "cell_type": "code",
   "execution_count": 44,
   "id": "62384b24",
   "metadata": {},
   "outputs": [
    {
     "data": {
      "text/plain": [
       "0.8341870030419658"
      ]
     },
     "execution_count": 44,
     "metadata": {},
     "output_type": "execute_result"
    }
   ],
   "source": [
    "roc_auc"
   ]
  },
  {
   "cell_type": "code",
   "execution_count": 45,
   "id": "2bb53c10",
   "metadata": {},
   "outputs": [
    {
     "data": {
      "text/plain": [
       "0.8767234387672344"
      ]
     },
     "execution_count": 45,
     "metadata": {},
     "output_type": "execute_result"
    }
   ],
   "source": [
    "accuracy"
   ]
  },
  {
   "cell_type": "code",
   "execution_count": 46,
   "id": "6070d9c8",
   "metadata": {},
   "outputs": [
    {
     "data": {
      "text/plain": [
       "0.6775106082036776"
      ]
     },
     "execution_count": 46,
     "metadata": {},
     "output_type": "execute_result"
    }
   ],
   "source": [
    "f1_score"
   ]
  },
  {
   "cell_type": "code",
   "execution_count": 47,
   "id": "29ebd512",
   "metadata": {},
   "outputs": [],
   "source": [
    "## Classification Report"
   ]
  },
  {
   "cell_type": "code",
   "execution_count": 48,
   "id": "ff7b97ca",
   "metadata": {},
   "outputs": [],
   "source": [
    "classification_report = classification_report(y_test,y_pred)"
   ]
  },
  {
   "cell_type": "code",
   "execution_count": 49,
   "id": "cbf77706",
   "metadata": {},
   "outputs": [
    {
     "name": "stdout",
     "output_type": "stream",
     "text": [
      "              precision    recall  f1-score   support\n",
      "\n",
      "           0       0.95      0.90      0.92      3077\n",
      "           1       0.60      0.77      0.68       622\n",
      "\n",
      "    accuracy                           0.88      3699\n",
      "   macro avg       0.78      0.83      0.80      3699\n",
      "weighted avg       0.89      0.88      0.88      3699\n",
      "\n"
     ]
    }
   ],
   "source": [
    "print(classification_report)"
   ]
  },
  {
   "cell_type": "code",
   "execution_count": null,
   "id": "219917e1",
   "metadata": {},
   "outputs": [],
   "source": []
  },
  {
   "cell_type": "code",
   "execution_count": null,
   "id": "2fac058d",
   "metadata": {},
   "outputs": [],
   "source": []
  }
 ],
 "metadata": {
  "kernelspec": {
   "display_name": "Python 3 (ipykernel)",
   "language": "python",
   "name": "python3"
  },
  "language_info": {
   "codemirror_mode": {
    "name": "ipython",
    "version": 3
   },
   "file_extension": ".py",
   "mimetype": "text/x-python",
   "name": "python",
   "nbconvert_exporter": "python",
   "pygments_lexer": "ipython3",
   "version": "3.9.12"
  }
 },
 "nbformat": 4,
 "nbformat_minor": 5
}
